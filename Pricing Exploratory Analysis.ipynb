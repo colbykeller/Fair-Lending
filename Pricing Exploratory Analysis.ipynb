{
 "cells": [
  {
   "cell_type": "markdown",
   "metadata": {},
   "source": [
    "# **Exploratory Analysis**\n",
    "### PyGWalker"
   ]
  },
  {
   "cell_type": "code",
   "execution_count": 1,
   "metadata": {},
   "outputs": [],
   "source": [
    "import pandas as pd\n",
    "import seaborn as sns\n",
    "#import pygwalker as pyg\n",
    "import textwrap\n",
    "import numpy as np\n",
    "import plotly.express as px\n",
    "import matplotlib.pylab as plt\n",
    "plt.style.use('ggplot')\n",
    "\n",
    "# Data Import\n",
    "df = pd.read_csv(\"Apr-Jun 2023 Pricing Race.csv\")\n"
   ]
  },
  {
   "cell_type": "code",
   "execution_count": 2,
   "metadata": {},
   "outputs": [
    {
     "data": {
      "text/html": [
       "<div>\n",
       "<style scoped>\n",
       "    .dataframe tbody tr th:only-of-type {\n",
       "        vertical-align: middle;\n",
       "    }\n",
       "\n",
       "    .dataframe tbody tr th {\n",
       "        vertical-align: top;\n",
       "    }\n",
       "\n",
       "    .dataframe thead th {\n",
       "        text-align: right;\n",
       "    }\n",
       "</style>\n",
       "<table border=\"1\" class=\"dataframe\">\n",
       "  <thead>\n",
       "    <tr style=\"text-align: right;\">\n",
       "      <th></th>\n",
       "      <th>Ethnicity</th>\n",
       "      <th>LoanId</th>\n",
       "      <th>Race</th>\n",
       "      <th>AIP</th>\n",
       "      <th>Rate_Spread</th>\n",
       "      <th>APR</th>\n",
       "      <th>APOR</th>\n",
       "      <th>Interest_Rate</th>\n",
       "      <th>HmdaActionTaken</th>\n",
       "      <th>Region</th>\n",
       "      <th>HmdaMsa</th>\n",
       "      <th>branchname</th>\n",
       "      <th>LoanOfficer</th>\n",
       "      <th>State</th>\n",
       "      <th>Purpose</th>\n",
       "      <th>Program</th>\n",
       "      <th>ProgramCategory</th>\n",
       "      <th>Channel</th>\n",
       "      <th>Occupancy</th>\n",
       "      <th>LoanType</th>\n",
       "    </tr>\n",
       "  </thead>\n",
       "  <tbody>\n",
       "    <tr>\n",
       "      <th>0</th>\n",
       "      <td>Not Hispanic or Latino</td>\n",
       "      <td>5917593</td>\n",
       "      <td>White</td>\n",
       "      <td>100.000</td>\n",
       "      <td>0.715</td>\n",
       "      <td>7.065</td>\n",
       "      <td>6.35</td>\n",
       "      <td>6.375</td>\n",
       "      <td>Loan Originated</td>\n",
       "      <td>Southern Utah</td>\n",
       "      <td>36260.0</td>\n",
       "      <td>Murray</td>\n",
       "      <td>Corbie Coy</td>\n",
       "      <td>UT</td>\n",
       "      <td>Purchase</td>\n",
       "      <td>Conv 97% LTV 30 Year Fixed</td>\n",
       "      <td>NaN</td>\n",
       "      <td>Banked - Retail</td>\n",
       "      <td>Owner</td>\n",
       "      <td>Conventional</td>\n",
       "    </tr>\n",
       "    <tr>\n",
       "      <th>1</th>\n",
       "      <td>Not Hispanic or Latino</td>\n",
       "      <td>5990200</td>\n",
       "      <td>American Alaska or Indian</td>\n",
       "      <td>99.875</td>\n",
       "      <td>0.077</td>\n",
       "      <td>6.817</td>\n",
       "      <td>6.74</td>\n",
       "      <td>6.500</td>\n",
       "      <td>Loan Originated</td>\n",
       "      <td>Southern Utah</td>\n",
       "      <td>NaN</td>\n",
       "      <td>Salt Lake City Center</td>\n",
       "      <td>Wane Workman</td>\n",
       "      <td>UT</td>\n",
       "      <td>Refinance</td>\n",
       "      <td>CONVENTIONAL FIXED 30-YEAR</td>\n",
       "      <td>NaN</td>\n",
       "      <td>Banked - Retail</td>\n",
       "      <td>Owner</td>\n",
       "      <td>Conventional</td>\n",
       "    </tr>\n",
       "    <tr>\n",
       "      <th>2</th>\n",
       "      <td>Not Hispanic or Latino</td>\n",
       "      <td>6012678</td>\n",
       "      <td>White</td>\n",
       "      <td>100.000</td>\n",
       "      <td>0.003</td>\n",
       "      <td>6.353</td>\n",
       "      <td>6.35</td>\n",
       "      <td>6.125</td>\n",
       "      <td>Loan Originated</td>\n",
       "      <td>Washington</td>\n",
       "      <td>NaN</td>\n",
       "      <td>Ellensburg</td>\n",
       "      <td>Melissa Bergren</td>\n",
       "      <td>WA</td>\n",
       "      <td>Refinance</td>\n",
       "      <td>CONVENTIONAL FIXED 30-YEAR</td>\n",
       "      <td>NaN</td>\n",
       "      <td>Banked - Retail</td>\n",
       "      <td>Owner</td>\n",
       "      <td>Conventional</td>\n",
       "    </tr>\n",
       "    <tr>\n",
       "      <th>3</th>\n",
       "      <td>Not Hispanic or Latino</td>\n",
       "      <td>6019325</td>\n",
       "      <td>White</td>\n",
       "      <td>100.000</td>\n",
       "      <td>-0.257</td>\n",
       "      <td>6.183</td>\n",
       "      <td>6.44</td>\n",
       "      <td>5.875</td>\n",
       "      <td>Loan Originated</td>\n",
       "      <td>Southern Utah</td>\n",
       "      <td>41620.0</td>\n",
       "      <td>Salt Lake City Center</td>\n",
       "      <td>Wane Workman</td>\n",
       "      <td>UT</td>\n",
       "      <td>Refinance</td>\n",
       "      <td>CONVENTIONAL FIXED 30-YEAR</td>\n",
       "      <td>NaN</td>\n",
       "      <td>Banked - Retail</td>\n",
       "      <td>Owner</td>\n",
       "      <td>Conventional</td>\n",
       "    </tr>\n",
       "    <tr>\n",
       "      <th>4</th>\n",
       "      <td>Not Hispanic or Latino</td>\n",
       "      <td>6025562</td>\n",
       "      <td>White</td>\n",
       "      <td>98.625</td>\n",
       "      <td>0.134</td>\n",
       "      <td>6.604</td>\n",
       "      <td>6.47</td>\n",
       "      <td>6.375</td>\n",
       "      <td>Loan Originated</td>\n",
       "      <td>New England - Mid America</td>\n",
       "      <td>34940.0</td>\n",
       "      <td>Concord</td>\n",
       "      <td>Laura Mullins</td>\n",
       "      <td>FL</td>\n",
       "      <td>Purchase</td>\n",
       "      <td>CONVENTIONAL FIXED 30-YEAR</td>\n",
       "      <td>NaN</td>\n",
       "      <td>Banked - Retail</td>\n",
       "      <td>Owner</td>\n",
       "      <td>Conventional</td>\n",
       "    </tr>\n",
       "  </tbody>\n",
       "</table>\n",
       "</div>"
      ],
      "text/plain": [
       "                Ethnicity   LoanId                       Race      AIP  \\\n",
       "0  Not Hispanic or Latino  5917593                      White  100.000   \n",
       "1  Not Hispanic or Latino  5990200  American Alaska or Indian   99.875   \n",
       "2  Not Hispanic or Latino  6012678                      White  100.000   \n",
       "3  Not Hispanic or Latino  6019325                      White  100.000   \n",
       "4  Not Hispanic or Latino  6025562                      White   98.625   \n",
       "\n",
       "   Rate_Spread    APR  APOR  Interest_Rate  HmdaActionTaken  \\\n",
       "0        0.715  7.065  6.35          6.375  Loan Originated   \n",
       "1        0.077  6.817  6.74          6.500  Loan Originated   \n",
       "2        0.003  6.353  6.35          6.125  Loan Originated   \n",
       "3       -0.257  6.183  6.44          5.875  Loan Originated   \n",
       "4        0.134  6.604  6.47          6.375  Loan Originated   \n",
       "\n",
       "                      Region  HmdaMsa             branchname      LoanOfficer  \\\n",
       "0              Southern Utah  36260.0                 Murray       Corbie Coy   \n",
       "1              Southern Utah      NaN  Salt Lake City Center     Wane Workman   \n",
       "2                 Washington      NaN             Ellensburg  Melissa Bergren   \n",
       "3              Southern Utah  41620.0  Salt Lake City Center     Wane Workman   \n",
       "4  New England - Mid America  34940.0                Concord    Laura Mullins   \n",
       "\n",
       "  State    Purpose                     Program ProgramCategory  \\\n",
       "0    UT   Purchase  Conv 97% LTV 30 Year Fixed             NaN   \n",
       "1    UT  Refinance  CONVENTIONAL FIXED 30-YEAR             NaN   \n",
       "2    WA  Refinance  CONVENTIONAL FIXED 30-YEAR             NaN   \n",
       "3    UT  Refinance  CONVENTIONAL FIXED 30-YEAR             NaN   \n",
       "4    FL   Purchase  CONVENTIONAL FIXED 30-YEAR             NaN   \n",
       "\n",
       "           Channel Occupancy      LoanType  \n",
       "0  Banked - Retail     Owner  Conventional  \n",
       "1  Banked - Retail     Owner  Conventional  \n",
       "2  Banked - Retail     Owner  Conventional  \n",
       "3  Banked - Retail     Owner  Conventional  \n",
       "4  Banked - Retail     Owner  Conventional  "
      ]
     },
     "execution_count": 2,
     "metadata": {},
     "output_type": "execute_result"
    }
   ],
   "source": [
    "df.head()"
   ]
  },
  {
   "cell_type": "code",
   "execution_count": null,
   "metadata": {},
   "outputs": [],
   "source": [
    "df.describe()"
   ]
  },
  {
   "cell_type": "markdown",
   "metadata": {},
   "source": [
    "# Plotly Charts"
   ]
  },
  {
   "cell_type": "code",
   "execution_count": null,
   "metadata": {},
   "outputs": [],
   "source": [
    "fig = px.box(df, x='Race', y='AIP', points=\"all\", width=1100, height=800, color='Race', notched=False)\n",
    "fig.show()\n",
    "\n",
    "fig = px.box(df, x='Race', y='AIP', points=\"all\", width=1100, height=800, color='Race', notched=True)\n",
    "fig.show()\n",
    "\n",
    "fig = px.violin(df, x='Race' , y='AIP', color='Race', box=True)\n",
    "fig.show()\n",
    "\n",
    "fig = px.strip(df, x='Race' , y='AIP', color='Race', stripmode='overlay')\n",
    "fig.show()\n",
    "\n",
    "fig = px.scatter(df , y='AIP', color='Race',)\n",
    "fig.show()"
   ]
  },
  {
   "cell_type": "code",
   "execution_count": null,
   "metadata": {},
   "outputs": [],
   "source": [
    "import pandas as pd\n",
    "import numpy as np\n",
    "import matplotlib.pylab as plt\n",
    "import seaborn as sns\n",
    "plt.style.use('ggplot')\n"
   ]
  },
  {
   "cell_type": "code",
   "execution_count": null,
   "metadata": {},
   "outputs": [],
   "source": [
    "dfEAG = pd.read_csv(\"Apr-Jun 2023 Pricing Ethnicity, Age, Sex.csv\")\n",
    "dfEAG.head()"
   ]
  },
  {
   "cell_type": "code",
   "execution_count": null,
   "metadata": {},
   "outputs": [],
   "source": [
    "dfEAG.describe()"
   ]
  },
  {
   "cell_type": "markdown",
   "metadata": {},
   "source": [
    "# Seaborn Charts"
   ]
  },
  {
   "cell_type": "code",
   "execution_count": null,
   "metadata": {},
   "outputs": [],
   "source": [
    "fig, ax = plt.subplots()\n",
    "sns.boxplot(data=dfEAG, x='Ethnicity', y='AIP' , showmeans=True, meanprops={\"marker\":\"o\",\"markerfacecolor\":\"white\",\"markeredgecolor\":\"black\",\"markersize\":\"6\"}, ax=ax, notch=True, showcaps=True)\n",
    "ax.set_xticklabels([ '\\n'.join(textwrap.wrap(label.get_text(), 10)) for label in ax.get_xticklabels()])\n",
    "plt.show()\n",
    "\n",
    "fig, ax = plt.subplots()\n",
    "sns.boxplot(data=dfEAG, x='Age', y='AIP' ,showmeans=True, meanprops={\"marker\":\"o\",\"markerfacecolor\":\"white\",\"markeredgecolor\":\"black\",\"markersize\":\"6\"}, ax=ax)\n",
    "ax.set_xticklabels([ '\\n'.join(textwrap.wrap(label.get_text(), 10)) for label in ax.get_xticklabels()])\n",
    "plt.show()\n",
    "\n",
    "fig, ax = plt.subplots()\n",
    "sns.boxplot(data=dfEAG, x='Sex', y='AIP', showmeans=True, meanprops={\"marker\":\"o\",\"markerfacecolor\":\"white\",\"markeredgecolor\":\"black\",\"markersize\":\"6\"}, ax=ax, notch=True)\n",
    "ax.set_xticklabels([ '\\n'.join(textwrap.wrap(label.get_text(), 10)) for label in ax.get_xticklabels()])\n",
    "plt.show()\n",
    "\n",
    "plt.figure(figsize=(6,4), dpi=100)\n",
    "sns.boxplot(dfEAG, y='Age' , x='AIP')\n",
    "\n",
    "plt.figure(figsize=(6,4), dpi=100)\n",
    "sns.boxplot(dfEAG, y='Sex' , x='AIP')\n"
   ]
  },
  {
   "cell_type": "code",
   "execution_count": null,
   "metadata": {},
   "outputs": [],
   "source": [
    "plt.figure(figsize=(6,4), dpi=100)\n",
    "sns.boxplot(dfRACE, y='Race' , x='AIP',showmeans=True, meanprops={\"marker\":\"o\",\"markerfacecolor\":\"white\",\"markeredgecolor\":\"black\",\"markersize\":\"6\"},)"
   ]
  },
  {
   "cell_type": "code",
   "execution_count": null,
   "metadata": {},
   "outputs": [],
   "source": [
    "sns.violinplot(data=dfRACE, x='Race', y='AIP')\n",
    "plt.show()"
   ]
  },
  {
   "cell_type": "markdown",
   "metadata": {},
   "source": [
    "# Bokeh Charts"
   ]
  },
  {
   "cell_type": "code",
   "execution_count": null,
   "metadata": {},
   "outputs": [],
   "source": []
  }
 ],
 "metadata": {
  "kernelspec": {
   "display_name": "Py3113",
   "language": "python",
   "name": "python3"
  },
  "language_info": {
   "codemirror_mode": {
    "name": "ipython",
    "version": 3
   },
   "file_extension": ".py",
   "mimetype": "text/x-python",
   "name": "python",
   "nbconvert_exporter": "python",
   "pygments_lexer": "ipython3",
   "version": "3.11.5"
  },
  "orig_nbformat": 4
 },
 "nbformat": 4,
 "nbformat_minor": 2
}
